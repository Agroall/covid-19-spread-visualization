{
 "cells": [
  {
   "cell_type": "code",
   "execution_count": 1,
   "id": "ae81fcb9",
   "metadata": {},
   "outputs": [],
   "source": [
    "from flask import Flask, render_template_string, jsonify\n",
    "import threading\n",
    "import webbrowser\n",
    "import time"
   ]
  },
  {
   "cell_type": "code",
   "execution_count": 3,
   "id": "72d1a6f0",
   "metadata": {},
   "outputs": [],
   "source": [
    "app = Flask('covid visualizer')"
   ]
  },
  {
   "cell_type": "code",
   "execution_count": 4,
   "id": "cdc80c28",
   "metadata": {},
   "outputs": [],
   "source": [
    "@app.route('/')\n",
    "def index():\n",
    "    return render_template_string(\"\"\"\n",
    "    <!DOCTYPE html>\n",
    "    <html>\n",
    "    <head>\n",
    "      <script src=\"https://cesium.com/downloads/cesiumjs/releases/1.117/Build/Cesium/Cesium.js\"></script>\n",
    "      <link href=\"https://cesium.com/downloads/cesiumjs/releases/1.117/Build/Cesium/Widgets/widgets.css\" rel=\"stylesheet\">\n",
    "      <style>html, body, #cesiumContainer { width:100%; height:100%; margin:0; padding:0; }</style>\n",
    "    </head>\n",
    "    <body>\n",
    "      <div id=\"cesiumContainer\"></div>\n",
    "      <script>\n",
    "        Cesium.Ion.defaultAccessToken = 'your-token-if-needed';\n",
    "        const viewer = new Cesium.Viewer('cesiumContainer', {\n",
    "          terrainProvider: Cesium.createWorldTerrain()\n",
    "        });\n",
    "\n",
    "        fetch('/locations')\n",
    "          .then(response => response.json())\n",
    "          .then(locations => {\n",
    "            locations.forEach(loc => {\n",
    "              viewer.entities.add({\n",
    "                position: Cesium.Cartesian3.fromDegrees(loc.lon, loc.lat),\n",
    "                point: { pixelSize: 10, color: Cesium.Color.RED },\n",
    "                label: { text: loc.name },\n",
    "                description: loc.info\n",
    "              });\n",
    "            });\n",
    "            viewer.zoomTo(viewer.entities);\n",
    "          });\n",
    "      </script>\n",
    "    </body>\n",
    "    </html>\n",
    "    \"\"\")"
   ]
  },
  {
   "cell_type": "code",
   "execution_count": 5,
   "id": "a8713000",
   "metadata": {},
   "outputs": [],
   "source": [
    "\n",
    "@app.route('/locations')\n",
    "def get_locations():\n",
    "    return jsonify([\n",
    "        {\"name\": \"Lagos\", \"lat\": 6.5244, \"lon\": 3.3792, \"info\": \"Largest city in Nigeria\"},\n",
    "        {\"name\": \"London\", \"lat\": 51.5074, \"lon\": -0.1278, \"info\": \"Capital of UK\"},\n",
    "    ])\n"
   ]
  },
  {
   "cell_type": "code",
   "execution_count": 6,
   "id": "f08fdd20",
   "metadata": {},
   "outputs": [
    {
     "name": "stdout",
     "output_type": "stream",
     "text": [
      " * Serving Flask app 'covid visualizer'\n",
      " * Debug mode: off\n"
     ]
    },
    {
     "name": "stderr",
     "output_type": "stream",
     "text": [
      "WARNING: This is a development server. Do not use it in a production deployment. Use a production WSGI server instead.\n",
      " * Running on http://127.0.0.1:5000\n",
      "Press CTRL+C to quit\n"
     ]
    },
    {
     "data": {
      "text/plain": [
       "True"
      ]
     },
     "execution_count": 6,
     "metadata": {},
     "output_type": "execute_result"
    },
    {
     "name": "stderr",
     "output_type": "stream",
     "text": [
      "127.0.0.1 - - [08/Jul/2025 18:01:37] \"GET / HTTP/1.1\" 200 -\n",
      "127.0.0.1 - - [08/Jul/2025 18:01:42] \"GET /favicon.ico HTTP/1.1\" 404 -\n",
      "127.0.0.1 - - [08/Jul/2025 18:02:25] \"GET / HTTP/1.1\" 200 -\n",
      "127.0.0.1 - - [08/Jul/2025 18:02:30] \"GET / HTTP/1.1\" 200 -\n",
      "127.0.0.1 - - [08/Jul/2025 18:02:33] \"GET / HTTP/1.1\" 200 -\n",
      "127.0.0.1 - - [08/Jul/2025 18:02:33] \"GET / HTTP/1.1\" 200 -\n",
      "127.0.0.1 - - [08/Jul/2025 18:02:34] \"GET / HTTP/1.1\" 200 -\n"
     ]
    }
   ],
   "source": [
    "# notebook_cell_2: launch the server and open browser\n",
    "def run_app():\n",
    "    app.run()\n",
    "\n",
    "# Start in new thread\n",
    "thread = threading.Thread(target=run_app)\n",
    "thread.daemon = True\n",
    "thread.start()\n",
    "\n",
    "# Give it a second and open browser\n",
    "time.sleep(1)\n",
    "webbrowser.open('http://127.0.0.1:5000')\n"
   ]
  }
 ],
 "metadata": {
  "kernelspec": {
   "display_name": "Python 3",
   "language": "python",
   "name": "python3"
  },
  "language_info": {
   "codemirror_mode": {
    "name": "ipython",
    "version": 3
   },
   "file_extension": ".py",
   "mimetype": "text/x-python",
   "name": "python",
   "nbconvert_exporter": "python",
   "pygments_lexer": "ipython3",
   "version": "3.12.3"
  }
 },
 "nbformat": 4,
 "nbformat_minor": 5
}
